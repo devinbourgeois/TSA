{
 "cells": [
  {
   "cell_type": "code",
   "execution_count": 1,
   "metadata": {
    "scrolled": true
   },
   "outputs": [],
   "source": [
    "import numpy as np\n",
    "import pandas as pd\n",
    "pd.set_option('display.max_columns', 99)"
   ]
  },
  {
   "cell_type": "code",
   "execution_count": 2,
   "metadata": {},
   "outputs": [],
   "source": [
    "airports = pd.read_csv('airports.csv')"
   ]
  },
  {
   "cell_type": "code",
   "execution_count": 3,
   "metadata": {},
   "outputs": [],
   "source": [
    "planes = pd.read_csv('planes.csv')"
   ]
  },
  {
   "cell_type": "code",
   "execution_count": 4,
   "metadata": {
    "scrolled": true
   },
   "outputs": [
    {
     "name": "stderr",
     "output_type": "stream",
     "text": [
      "C:\\Users\\frype\\Anaconda3\\lib\\site-packages\\IPython\\core\\interactiveshell.py:3058: DtypeWarning: Columns (7,8) have mixed types. Specify dtype option on import or set low_memory=False.\n",
      "  interactivity=interactivity, compiler=compiler, result=result)\n"
     ]
    },
    {
     "name": "stdout",
     "output_type": "stream",
     "text": [
      "csv read complete\n"
     ]
    }
   ],
   "source": [
    "#flights = pd.read_csv('flights_test_size.csv')\n",
    "flights = pd.read_csv('flights.csv')\n",
    "print('csv read complete')\n",
    "#create frame of all dates with flights, will automatically account for leap-years since it's based on real data\n",
    "byDate = pd.DataFrame((flights['MONTH'].astype(str) + '/' + flights['DAY'].astype(str) + '/' + flights['YEAR'].astype(str)).unique())\n",
    "byDate.columns = ['DATE']"
   ]
  },
  {
   "cell_type": "code",
   "execution_count": 5,
   "metadata": {},
   "outputs": [],
   "source": [
    "#concatinate the dates of flights to a single column\n",
    "flights=flights[flights['CANCELLED']==0]\n",
    "flights['DATE'] = flights['MONTH'].astype(str) + '/' + flights['DAY'].astype(str) + '/' + flights['YEAR'].astype(str)\n",
    "flights.drop(axis=1,inplace=True,labels=['MONTH','DAY','YEAR','CANCELLED','CANCELLATION_REASON','DAY_OF_WEEK','FLIGHT_NUMBER','DEPARTURE_TIME','DEPARTURE_DELAY','TAXI_OUT','WHEELS_OFF','SCHEDULED_TIME','AIR_TIME','DISTANCE','WHEELS_ON','TAXI_IN','ARRIVAL_TIME','ARRIVAL_DELAY'])"
   ]
  },
  {
   "cell_type": "code",
   "execution_count": 6,
   "metadata": {},
   "outputs": [],
   "source": [
    "#clean missing values to their zero value to allow math operations to work\n",
    "flights['AIR_SYSTEM_DELAY'].fillna(value=0,inplace=True)\n",
    "flights['SECURITY_DELAY'].fillna(value=0,inplace=True)\n",
    "flights['AIRLINE_DELAY'].fillna(value=0,inplace=True)\n",
    "flights['LATE_AIRCRAFT_DELAY'].fillna(value=0,inplace=True)\n",
    "flights['WEATHER_DELAY'].fillna(value=0,inplace=True)"
   ]
  },
  {
   "cell_type": "code",
   "execution_count": 7,
   "metadata": {},
   "outputs": [
    {
     "name": "stderr",
     "output_type": "stream",
     "text": [
      "C:\\Users\\frype\\Anaconda3\\lib\\site-packages\\pandas\\core\\frame.py:4102: SettingWithCopyWarning: \n",
      "A value is trying to be set on a copy of a slice from a DataFrame\n",
      "\n",
      "See the caveats in the documentation: http://pandas.pydata.org/pandas-docs/stable/user_guide/indexing.html#returning-a-view-versus-a-copy\n",
      "  errors=errors,\n"
     ]
    }
   ],
   "source": [
    "# create two separate frames, one with inbound flights and one with outbound flights, and clean out un-needed data\n",
    "ATLin = flights[flights['DESTINATION_AIRPORT'] == 'ATL']\n",
    "ATLin.reset_index(inplace=True,drop=True)\n",
    "ATLin = ATLin[ATLin['DIVERTED']==0]\n",
    "ATLin.drop(axis=1,inplace=True,labels=['SCHEDULED_ARRIVAL','DESTINATION_AIRPORT','SCHEDULED_DEPARTURE','DIVERTED','SECURITY_DELAY','AIRLINE_DELAY','LATE_AIRCRAFT_DELAY','WEATHER_DELAY'])\n",
    "\n",
    "ATLout = flights[flights['ORIGIN_AIRPORT'] == 'ATL']\n",
    "ATLout.reset_index(inplace=True,drop=True)\n",
    "ATLout.drop(axis=1,inplace=True,labels=['ORIGIN_AIRPORT','SCHEDULED_ARRIVAL'])"
   ]
  },
  {
   "cell_type": "markdown",
   "metadata": {},
   "source": [
    "### inbound to-do list\n",
    "- determine total number of incoming flights for each day\n",
    "- determine total cost to airport for air_system_delay for each day"
   ]
  },
  {
   "cell_type": "code",
   "execution_count": 8,
   "metadata": {},
   "outputs": [],
   "source": [
    "#retrieve air system delay fee from airports information\n",
    "ATL_ASD_FEE_RATE = airports[airports['IATA_CODE'] == 'ATL']['AIR SYSTEM DELAY FEE / MIN'].reset_index(drop=True)[0]"
   ]
  },
  {
   "cell_type": "code",
   "execution_count": 9,
   "metadata": {},
   "outputs": [],
   "source": [
    "#air system delay costs for each flight\n",
    "ATLin['AIR_SYSTEM_DELAY_COST'] = ATLin['AIR_SYSTEM_DELAY'] * ATL_ASD_FEE_RATE\n",
    "ATLin['INBOUND FLIGHTS'] = 1"
   ]
  },
  {
   "cell_type": "code",
   "execution_count": 10,
   "metadata": {},
   "outputs": [],
   "source": [
    "#merge all inbound information to the daily information data frame\n",
    "byDate = pd.merge(byDate, ATLin.groupby('DATE').sum().reset_index(), on='DATE',how='outer')"
   ]
  },
  {
   "cell_type": "code",
   "execution_count": 11,
   "metadata": {},
   "outputs": [
    {
     "data": {
      "text/plain": [
       "0        9593.7\n",
       "1       74146.0\n",
       "2      161791.1\n",
       "3      125736.9\n",
       "4       42223.6\n",
       "         ...   \n",
       "360     95257.8\n",
       "361    147556.2\n",
       "362     45025.3\n",
       "363    499579.9\n",
       "364      8886.2\n",
       "Name: AIR_SYSTEM_DELAY_COST, Length: 365, dtype: float64"
      ]
     },
     "execution_count": 11,
     "metadata": {},
     "output_type": "execute_result"
    }
   ],
   "source": [
    "byDate['AIR_SYSTEM_DELAY'].fillna(0)\n",
    "byDate['AIR_SYSTEM_DELAY_COST'].fillna(0)"
   ]
  },
  {
   "cell_type": "markdown",
   "metadata": {},
   "source": [
    "### outbount to-do list\n",
    "For each day:\n",
    "- determine total number of outbound flights\n",
    "- calculate gate fees\n",
    "- calculate airline-delay fee income\n",
    "- calculate security delay fee"
   ]
  },
  {
   "cell_type": "code",
   "execution_count": 12,
   "metadata": {},
   "outputs": [
    {
     "name": "stderr",
     "output_type": "stream",
     "text": [
      "C:\\Users\\frype\\Anaconda3\\lib\\site-packages\\ipykernel_launcher.py:7: SettingWithCopyWarning: \n",
      "A value is trying to be set on a copy of a slice from a DataFrame.\n",
      "Try using .loc[row_indexer,col_indexer] = value instead\n",
      "\n",
      "See the caveats in the documentation: http://pandas.pydata.org/pandas-docs/stable/user_guide/indexing.html#returning-a-view-versus-a-copy\n",
      "  import sys\n",
      "C:\\Users\\frype\\Anaconda3\\lib\\site-packages\\ipykernel_launcher.py:8: SettingWithCopyWarning: \n",
      "A value is trying to be set on a copy of a slice from a DataFrame.\n",
      "Try using .loc[row_indexer,col_indexer] = value instead\n",
      "\n",
      "See the caveats in the documentation: http://pandas.pydata.org/pandas-docs/stable/user_guide/indexing.html#returning-a-view-versus-a-copy\n",
      "  \n",
      "C:\\Users\\frype\\Anaconda3\\lib\\site-packages\\ipykernel_launcher.py:9: SettingWithCopyWarning: \n",
      "A value is trying to be set on a copy of a slice from a DataFrame.\n",
      "Try using .loc[row_indexer,col_indexer] = value instead\n",
      "\n",
      "See the caveats in the documentation: http://pandas.pydata.org/pandas-docs/stable/user_guide/indexing.html#returning-a-view-versus-a-copy\n",
      "  if __name__ == '__main__':\n",
      "C:\\Users\\frype\\Anaconda3\\lib\\site-packages\\ipykernel_launcher.py:10: SettingWithCopyWarning: \n",
      "A value is trying to be set on a copy of a slice from a DataFrame.\n",
      "Try using .loc[row_indexer,col_indexer] = value instead\n",
      "\n",
      "See the caveats in the documentation: http://pandas.pydata.org/pandas-docs/stable/user_guide/indexing.html#returning-a-view-versus-a-copy\n",
      "  # Remove the CWD from sys.path while we load stuff.\n"
     ]
    }
   ],
   "source": [
    "ATLout.drop(axis=1,labels=['AIRLINE','TAIL_NUMBER','DESTINATION_AIRPORT','SCHEDULED_DEPARTURE','DIVERTED','AIR_SYSTEM_DELAY'],inplace=True)\n",
    "\n",
    "ATL_BGUC = airports[airports['IATA_CODE'] == 'ATL']['BASE GATE USE COST'].reset_index(drop=True)[0]\n",
    "ATL_AD_FEE_RATE = airports[airports['IATA_CODE'] == 'ATL']['AIRLINE DELAY FEE / MIN'].reset_index(drop=True)[0]\n",
    "ATL_SD_FEE_RATE = airports[airports['IATA_CODE'] == 'ATL']['SECURITY DELAY FEE / MIN'].reset_index(drop=True)[0]\n",
    "\n",
    "ATLout['OUTBOUND FLIGHTS'] = 1\n",
    "ATLout['GATE_REVENUE'] =  ATL_BGUC\n",
    "ATLout['SECURITY_DELAY_COST'] = ATLout['SECURITY_DELAY'] * ATL_SD_FEE_RATE\n",
    "ATLout['AIRLINE_DELAY_REVENUE'] = ATLout['AIRLINE_DELAY'] * ATL_AD_FEE_RATE"
   ]
  },
  {
   "cell_type": "code",
   "execution_count": 13,
   "metadata": {},
   "outputs": [],
   "source": [
    "#merge the grouped days into the date based frame with the information of inbound flights\n",
    "byDate = pd.merge(byDate, ATLout.groupby('DATE').sum().reset_index(), on = 'DATE', how='outer')"
   ]
  },
  {
   "cell_type": "code",
   "execution_count": 14,
   "metadata": {},
   "outputs": [
    {
     "data": {
      "text/html": [
       "<div>\n",
       "<style scoped>\n",
       "    .dataframe tbody tr th:only-of-type {\n",
       "        vertical-align: middle;\n",
       "    }\n",
       "\n",
       "    .dataframe tbody tr th {\n",
       "        vertical-align: top;\n",
       "    }\n",
       "\n",
       "    .dataframe thead th {\n",
       "        text-align: right;\n",
       "    }\n",
       "</style>\n",
       "<table border=\"1\" class=\"dataframe\">\n",
       "  <thead>\n",
       "    <tr style=\"text-align: right;\">\n",
       "      <th></th>\n",
       "      <th>DATE</th>\n",
       "      <th>AIR_SYSTEM_DELAY</th>\n",
       "      <th>AIR_SYSTEM_DELAY_COST</th>\n",
       "      <th>INBOUND FLIGHTS</th>\n",
       "      <th>SECURITY_DELAY</th>\n",
       "      <th>AIRLINE_DELAY</th>\n",
       "      <th>LATE_AIRCRAFT_DELAY</th>\n",
       "      <th>WEATHER_DELAY</th>\n",
       "      <th>OUTBOUND FLIGHTS</th>\n",
       "      <th>GATE_REVENUE</th>\n",
       "      <th>SECURITY_DELAY_COST</th>\n",
       "      <th>AIRLINE_DELAY_REVENUE</th>\n",
       "      <th>PROFIT</th>\n",
       "    </tr>\n",
       "  </thead>\n",
       "  <tbody>\n",
       "    <tr>\n",
       "      <td>0</td>\n",
       "      <td>1/1/2015</td>\n",
       "      <td>339.0</td>\n",
       "      <td>9593.7</td>\n",
       "      <td>702.0</td>\n",
       "      <td>0.0</td>\n",
       "      <td>1285.0</td>\n",
       "      <td>543.0</td>\n",
       "      <td>0.0</td>\n",
       "      <td>738.0</td>\n",
       "      <td>3759512.22</td>\n",
       "      <td>0.00</td>\n",
       "      <td>54548.25</td>\n",
       "      <td>3804466.77</td>\n",
       "    </tr>\n",
       "    <tr>\n",
       "      <td>1</td>\n",
       "      <td>1/2/2015</td>\n",
       "      <td>2620.0</td>\n",
       "      <td>74146.0</td>\n",
       "      <td>1041.0</td>\n",
       "      <td>0.0</td>\n",
       "      <td>3727.0</td>\n",
       "      <td>2808.0</td>\n",
       "      <td>693.0</td>\n",
       "      <td>1038.0</td>\n",
       "      <td>5287769.22</td>\n",
       "      <td>0.00</td>\n",
       "      <td>158211.15</td>\n",
       "      <td>5371834.37</td>\n",
       "    </tr>\n",
       "    <tr>\n",
       "      <td>2</td>\n",
       "      <td>1/3/2015</td>\n",
       "      <td>5717.0</td>\n",
       "      <td>161791.1</td>\n",
       "      <td>934.0</td>\n",
       "      <td>53.0</td>\n",
       "      <td>6633.0</td>\n",
       "      <td>6708.0</td>\n",
       "      <td>995.0</td>\n",
       "      <td>938.0</td>\n",
       "      <td>4778350.22</td>\n",
       "      <td>2624.56</td>\n",
       "      <td>281570.85</td>\n",
       "      <td>4895505.41</td>\n",
       "    </tr>\n",
       "    <tr>\n",
       "      <td>3</td>\n",
       "      <td>1/4/2015</td>\n",
       "      <td>4443.0</td>\n",
       "      <td>125736.9</td>\n",
       "      <td>1022.0</td>\n",
       "      <td>0.0</td>\n",
       "      <td>9115.0</td>\n",
       "      <td>9567.0</td>\n",
       "      <td>615.0</td>\n",
       "      <td>1016.0</td>\n",
       "      <td>5175697.04</td>\n",
       "      <td>0.00</td>\n",
       "      <td>386931.75</td>\n",
       "      <td>5436891.89</td>\n",
       "    </tr>\n",
       "    <tr>\n",
       "      <td>4</td>\n",
       "      <td>1/5/2015</td>\n",
       "      <td>1492.0</td>\n",
       "      <td>42223.6</td>\n",
       "      <td>998.0</td>\n",
       "      <td>5.0</td>\n",
       "      <td>4752.0</td>\n",
       "      <td>3164.0</td>\n",
       "      <td>213.0</td>\n",
       "      <td>1001.0</td>\n",
       "      <td>5099284.19</td>\n",
       "      <td>247.60</td>\n",
       "      <td>201722.40</td>\n",
       "      <td>5258535.39</td>\n",
       "    </tr>\n",
       "    <tr>\n",
       "      <td>...</td>\n",
       "      <td>...</td>\n",
       "      <td>...</td>\n",
       "      <td>...</td>\n",
       "      <td>...</td>\n",
       "      <td>...</td>\n",
       "      <td>...</td>\n",
       "      <td>...</td>\n",
       "      <td>...</td>\n",
       "      <td>...</td>\n",
       "      <td>...</td>\n",
       "      <td>...</td>\n",
       "      <td>...</td>\n",
       "      <td>...</td>\n",
       "    </tr>\n",
       "    <tr>\n",
       "      <td>360</td>\n",
       "      <td>12/27/2015</td>\n",
       "      <td>3366.0</td>\n",
       "      <td>95257.8</td>\n",
       "      <td>1027.0</td>\n",
       "      <td>0.0</td>\n",
       "      <td>6365.0</td>\n",
       "      <td>7979.0</td>\n",
       "      <td>713.0</td>\n",
       "      <td>1031.0</td>\n",
       "      <td>5252109.89</td>\n",
       "      <td>0.00</td>\n",
       "      <td>270194.25</td>\n",
       "      <td>5427046.34</td>\n",
       "    </tr>\n",
       "    <tr>\n",
       "      <td>361</td>\n",
       "      <td>12/28/2015</td>\n",
       "      <td>5214.0</td>\n",
       "      <td>147556.2</td>\n",
       "      <td>1005.0</td>\n",
       "      <td>23.0</td>\n",
       "      <td>9637.0</td>\n",
       "      <td>9209.0</td>\n",
       "      <td>1746.0</td>\n",
       "      <td>1006.0</td>\n",
       "      <td>5124755.14</td>\n",
       "      <td>1138.96</td>\n",
       "      <td>409090.65</td>\n",
       "      <td>5385150.63</td>\n",
       "    </tr>\n",
       "    <tr>\n",
       "      <td>362</td>\n",
       "      <td>12/29/2015</td>\n",
       "      <td>1591.0</td>\n",
       "      <td>45025.3</td>\n",
       "      <td>1012.0</td>\n",
       "      <td>73.0</td>\n",
       "      <td>8051.0</td>\n",
       "      <td>6294.0</td>\n",
       "      <td>242.0</td>\n",
       "      <td>1012.0</td>\n",
       "      <td>5155320.28</td>\n",
       "      <td>3614.96</td>\n",
       "      <td>341764.95</td>\n",
       "      <td>5448444.97</td>\n",
       "    </tr>\n",
       "    <tr>\n",
       "      <td>363</td>\n",
       "      <td>12/30/2015</td>\n",
       "      <td>17653.0</td>\n",
       "      <td>499579.9</td>\n",
       "      <td>1002.0</td>\n",
       "      <td>0.0</td>\n",
       "      <td>13273.0</td>\n",
       "      <td>36615.0</td>\n",
       "      <td>11139.0</td>\n",
       "      <td>1016.0</td>\n",
       "      <td>5175697.04</td>\n",
       "      <td>0.00</td>\n",
       "      <td>563438.85</td>\n",
       "      <td>5239555.99</td>\n",
       "    </tr>\n",
       "    <tr>\n",
       "      <td>364</td>\n",
       "      <td>12/31/2015</td>\n",
       "      <td>314.0</td>\n",
       "      <td>8886.2</td>\n",
       "      <td>803.0</td>\n",
       "      <td>44.0</td>\n",
       "      <td>2451.0</td>\n",
       "      <td>1332.0</td>\n",
       "      <td>76.0</td>\n",
       "      <td>793.0</td>\n",
       "      <td>4039692.67</td>\n",
       "      <td>2178.88</td>\n",
       "      <td>104044.95</td>\n",
       "      <td>4132672.54</td>\n",
       "    </tr>\n",
       "  </tbody>\n",
       "</table>\n",
       "<p>365 rows × 13 columns</p>\n",
       "</div>"
      ],
      "text/plain": [
       "           DATE  AIR_SYSTEM_DELAY  AIR_SYSTEM_DELAY_COST  INBOUND FLIGHTS  \\\n",
       "0      1/1/2015             339.0                 9593.7            702.0   \n",
       "1      1/2/2015            2620.0                74146.0           1041.0   \n",
       "2      1/3/2015            5717.0               161791.1            934.0   \n",
       "3      1/4/2015            4443.0               125736.9           1022.0   \n",
       "4      1/5/2015            1492.0                42223.6            998.0   \n",
       "..          ...               ...                    ...              ...   \n",
       "360  12/27/2015            3366.0                95257.8           1027.0   \n",
       "361  12/28/2015            5214.0               147556.2           1005.0   \n",
       "362  12/29/2015            1591.0                45025.3           1012.0   \n",
       "363  12/30/2015           17653.0               499579.9           1002.0   \n",
       "364  12/31/2015             314.0                 8886.2            803.0   \n",
       "\n",
       "     SECURITY_DELAY  AIRLINE_DELAY  LATE_AIRCRAFT_DELAY  WEATHER_DELAY  \\\n",
       "0               0.0         1285.0                543.0            0.0   \n",
       "1               0.0         3727.0               2808.0          693.0   \n",
       "2              53.0         6633.0               6708.0          995.0   \n",
       "3               0.0         9115.0               9567.0          615.0   \n",
       "4               5.0         4752.0               3164.0          213.0   \n",
       "..              ...            ...                  ...            ...   \n",
       "360             0.0         6365.0               7979.0          713.0   \n",
       "361            23.0         9637.0               9209.0         1746.0   \n",
       "362            73.0         8051.0               6294.0          242.0   \n",
       "363             0.0        13273.0              36615.0        11139.0   \n",
       "364            44.0         2451.0               1332.0           76.0   \n",
       "\n",
       "     OUTBOUND FLIGHTS  GATE_REVENUE  SECURITY_DELAY_COST  \\\n",
       "0               738.0    3759512.22                 0.00   \n",
       "1              1038.0    5287769.22                 0.00   \n",
       "2               938.0    4778350.22              2624.56   \n",
       "3              1016.0    5175697.04                 0.00   \n",
       "4              1001.0    5099284.19               247.60   \n",
       "..                ...           ...                  ...   \n",
       "360            1031.0    5252109.89                 0.00   \n",
       "361            1006.0    5124755.14              1138.96   \n",
       "362            1012.0    5155320.28              3614.96   \n",
       "363            1016.0    5175697.04                 0.00   \n",
       "364             793.0    4039692.67              2178.88   \n",
       "\n",
       "     AIRLINE_DELAY_REVENUE      PROFIT  \n",
       "0                 54548.25  3804466.77  \n",
       "1                158211.15  5371834.37  \n",
       "2                281570.85  4895505.41  \n",
       "3                386931.75  5436891.89  \n",
       "4                201722.40  5258535.39  \n",
       "..                     ...         ...  \n",
       "360              270194.25  5427046.34  \n",
       "361              409090.65  5385150.63  \n",
       "362              341764.95  5448444.97  \n",
       "363              563438.85  5239555.99  \n",
       "364              104044.95  4132672.54  \n",
       "\n",
       "[365 rows x 13 columns]"
      ]
     },
     "execution_count": 14,
     "metadata": {},
     "output_type": "execute_result"
    }
   ],
   "source": [
    "#calculate overall daily net profits (revenues-costs)\n",
    "byDate['PROFIT'] = byDate['GATE_REVENUE'] + byDate['AIRLINE_DELAY_REVENUE'] - byDate['SECURITY_DELAY_COST'] - byDate['AIR_SYSTEM_DELAY_COST']\n",
    "byDate.to_csv('ATL_daily_profit.csv')\n",
    "byDate #display output while the columns aren't in a logical order, we don't need them to be for visualization in tableau"
   ]
  }
 ],
 "metadata": {
  "kernelspec": {
   "display_name": "Python 3",
   "language": "python",
   "name": "python3"
  },
  "language_info": {
   "codemirror_mode": {
    "name": "ipython",
    "version": 3
   },
   "file_extension": ".py",
   "mimetype": "text/x-python",
   "name": "python",
   "nbconvert_exporter": "python",
   "pygments_lexer": "ipython3",
   "version": "3.7.4"
  }
 },
 "nbformat": 4,
 "nbformat_minor": 2
}
